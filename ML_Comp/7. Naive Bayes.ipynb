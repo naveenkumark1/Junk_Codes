{
 "cells": [
  {
   "cell_type": "markdown",
   "metadata": {},
   "source": [
    "## Naive Bayes\n",
    "### Agenda\n",
    "1. Introduction Bayes' Theorm\n",
    "2. Naive Bayes Classifier\n",
    "3. Gaussian Naive Bayes\n",
    "4. Multinomial Naive Bayes\n",
    "5. Burnolis' Naive Bayes\n",
    "6. Naive Bayes for out-of-core "
   ]
  },
  {
   "cell_type": "markdown",
   "metadata": {},
   "source": [
    "### Introduction to Naive Bayes\n",
    "* The Naive Bayes Classifier technique is based on the Bayesian theorem and is particularly suited when then high dimensional data. \n",
    "* It's simple & out-performs many sophisticated methods\n",
    "* Rather than attempting to calculate the values of each attribute value P(d1, d2, d3|h), they are assumed to be conditionally independent given the target value and calculated as P(d1|h) * P(d2|h) and so on.\n",
    "* The above assumption is very strong & not true for in real situations, still naive bayes works quite well"
   ]
  },
  {
   "cell_type": "markdown",
   "metadata": {},
   "source": [
    "#### Class Probabilities\n",
    "* For Bi-class classification, P(Class 1) = Count(Class 1) / Count( Class 1 + Class 2)"
   ]
  },
  {
   "cell_type": "markdown",
   "metadata": {},
   "source": [
    "#### Conditional Probabilities\n",
    "* Frequency of each attribute value for each class\n",
    "* Consider a dataset with attribute - weather ( values - sunny & rainy ). Target - Sports ( values - chess & tennis )\n",
    "* P(weather=sunny|target=tennis) = Count ( weather=sunny & target=tennis ) / Count ( target=tennis )"
   ]
  },
  {
   "cell_type": "markdown",
   "metadata": {},
   "source": [
    "### Naive Bayes' Classifier\n",
    "* Formula : Prediction = Max(P(feature|h).P(h))\n",
    "* Let's predict for a new data (weather=sunny)\n",
    "* Possibility of tennis = P(weather=sunny|target=tennis) . P(target=tennis)\n",
    "* Possibility of chess = P(weather=sunny|target=chess) . P(target=chess)\n",
    "* We choose the possibility with higher values\n",
    "* Normalize the value to bring it to scale of 0 to 1\n",
    "\n",
    "#### More features\n",
    "* In case, we add more feature like skill (values - low,moderate,high)\n",
    "* Our probability becomes, P(weather=sunny|target=tennis).P(skill=moderate|target=tennis).P(target=tennis)"
   ]
  },
  {
   "cell_type": "markdown",
   "metadata": {},
   "source": [
    "### Gaussian Naive Bayes\n",
    "* The above fundamental example is for categorical data\n",
    "* We can use Naive Bayes for continues data as well\n",
    "* Assumption is data should be of Gaussian Distribution\n",
    "* Let's understand a bit about Gaussian PDF\n",
    "\n",
    "<img src=\"https://github.com/awantik/machine-learning-slides/blob/master/gpdf.PNG?raw=true\" width=\"200px\">\n",
    "\n",
    "* Possibility of tennis = P(pdf(precipitation)|class=tennis) . P(pdf(windy)|class=tennis) . P(class=tennis\n",
    "* Prior probability can be configured. By default, each class is assigned equal probability"
   ]
  },
  {
   "cell_type": "code",
   "execution_count": 103,
   "metadata": {},
   "outputs": [],
   "source": [
    "import numpy as np\n",
    "import pandas as pd\n",
    "from sklearn.datasets import load_iris\n",
    "import seaborn as sns; sns.set(color_codes=True)\n",
    "from mpl_toolkits.mplot3d import Axes3D\n",
    "import matplotlib.pyplot as plt\n",
    "%matplotlib inline"
   ]
  },
  {
   "cell_type": "code",
   "execution_count": 104,
   "metadata": {},
   "outputs": [],
   "source": [
    "iris = load_iris()"
   ]
  },
  {
   "cell_type": "code",
   "execution_count": 105,
   "metadata": {},
   "outputs": [],
   "source": [
    "df = pd.DataFrame(iris.data, columns=iris.feature_names)"
   ]
  },
  {
   "cell_type": "code",
   "execution_count": 106,
   "metadata": {},
   "outputs": [],
   "source": [
    "from sklearn.naive_bayes import GaussianNB"
   ]
  },
  {
   "cell_type": "code",
   "execution_count": 107,
   "metadata": {},
   "outputs": [],
   "source": [
    "gnb = GaussianNB()"
   ]
  },
  {
   "cell_type": "code",
   "execution_count": 108,
   "metadata": {},
   "outputs": [
    {
     "data": {
      "text/plain": [
       "GaussianNB(priors=None)"
      ]
     },
     "execution_count": 108,
     "metadata": {},
     "output_type": "execute_result"
    }
   ],
   "source": [
    "gnb.fit(df,iris.target)"
   ]
  },
  {
   "cell_type": "code",
   "execution_count": 109,
   "metadata": {},
   "outputs": [
    {
     "data": {
      "text/plain": [
       "0.96"
      ]
     },
     "execution_count": 109,
     "metadata": {},
     "output_type": "execute_result"
    }
   ],
   "source": [
    "gnb.score(df,iris.target)"
   ]
  },
  {
   "cell_type": "markdown",
   "metadata": {},
   "source": [
    "### Multinomial Naive Bayes\n",
    "* Suited for classification of data with discrete features ( count data )\n",
    "* Very useful in text processing\n",
    "* Each text will be converted to vector of word count\n",
    "* Cannot deal with negative numbers"
   ]
  },
  {
   "cell_type": "code",
   "execution_count": 319,
   "metadata": {},
   "outputs": [],
   "source": [
    "review_data = pd.read_csv('Reviews.csv')"
   ]
  },
  {
   "cell_type": "code",
   "execution_count": 320,
   "metadata": {},
   "outputs": [
    {
     "name": "stdout",
     "output_type": "stream",
     "text": [
      "<class 'pandas.core.frame.DataFrame'>\n",
      "RangeIndex: 568454 entries, 0 to 568453\n",
      "Data columns (total 10 columns):\n",
      "Id                        568454 non-null int64\n",
      "ProductId                 568454 non-null object\n",
      "UserId                    568454 non-null object\n",
      "ProfileName               568438 non-null object\n",
      "HelpfulnessNumerator      568454 non-null int64\n",
      "HelpfulnessDenominator    568454 non-null int64\n",
      "Score                     568454 non-null int64\n",
      "Time                      568454 non-null int64\n",
      "Summary                   568427 non-null object\n",
      "Text                      568454 non-null object\n",
      "dtypes: int64(5), object(5)\n",
      "memory usage: 43.4+ MB\n"
     ]
    }
   ],
   "source": [
    "review_data.info()"
   ]
  },
  {
   "cell_type": "code",
   "execution_count": 321,
   "metadata": {},
   "outputs": [
    {
     "data": {
      "text/html": [
       "<div>\n",
       "<style scoped>\n",
       "    .dataframe tbody tr th:only-of-type {\n",
       "        vertical-align: middle;\n",
       "    }\n",
       "\n",
       "    .dataframe tbody tr th {\n",
       "        vertical-align: top;\n",
       "    }\n",
       "\n",
       "    .dataframe thead th {\n",
       "        text-align: right;\n",
       "    }\n",
       "</style>\n",
       "<table border=\"1\" class=\"dataframe\">\n",
       "  <thead>\n",
       "    <tr style=\"text-align: right;\">\n",
       "      <th></th>\n",
       "      <th>Id</th>\n",
       "      <th>ProductId</th>\n",
       "      <th>UserId</th>\n",
       "      <th>ProfileName</th>\n",
       "      <th>HelpfulnessNumerator</th>\n",
       "      <th>HelpfulnessDenominator</th>\n",
       "      <th>Score</th>\n",
       "      <th>Time</th>\n",
       "      <th>Summary</th>\n",
       "      <th>Text</th>\n",
       "    </tr>\n",
       "  </thead>\n",
       "  <tbody>\n",
       "    <tr>\n",
       "      <th>0</th>\n",
       "      <td>1</td>\n",
       "      <td>B001E4KFG0</td>\n",
       "      <td>A3SGXH7AUHU8GW</td>\n",
       "      <td>delmartian</td>\n",
       "      <td>1</td>\n",
       "      <td>1</td>\n",
       "      <td>5</td>\n",
       "      <td>1303862400</td>\n",
       "      <td>Good Quality Dog Food</td>\n",
       "      <td>I have bought several of the Vitality canned d...</td>\n",
       "    </tr>\n",
       "    <tr>\n",
       "      <th>1</th>\n",
       "      <td>2</td>\n",
       "      <td>B00813GRG4</td>\n",
       "      <td>A1D87F6ZCVE5NK</td>\n",
       "      <td>dll pa</td>\n",
       "      <td>0</td>\n",
       "      <td>0</td>\n",
       "      <td>1</td>\n",
       "      <td>1346976000</td>\n",
       "      <td>Not as Advertised</td>\n",
       "      <td>Product arrived labeled as Jumbo Salted Peanut...</td>\n",
       "    </tr>\n",
       "    <tr>\n",
       "      <th>2</th>\n",
       "      <td>3</td>\n",
       "      <td>B000LQOCH0</td>\n",
       "      <td>ABXLMWJIXXAIN</td>\n",
       "      <td>Natalia Corres \"Natalia Corres\"</td>\n",
       "      <td>1</td>\n",
       "      <td>1</td>\n",
       "      <td>4</td>\n",
       "      <td>1219017600</td>\n",
       "      <td>\"Delight\" says it all</td>\n",
       "      <td>This is a confection that has been around a fe...</td>\n",
       "    </tr>\n",
       "    <tr>\n",
       "      <th>3</th>\n",
       "      <td>4</td>\n",
       "      <td>B000UA0QIQ</td>\n",
       "      <td>A395BORC6FGVXV</td>\n",
       "      <td>Karl</td>\n",
       "      <td>3</td>\n",
       "      <td>3</td>\n",
       "      <td>2</td>\n",
       "      <td>1307923200</td>\n",
       "      <td>Cough Medicine</td>\n",
       "      <td>If you are looking for the secret ingredient i...</td>\n",
       "    </tr>\n",
       "    <tr>\n",
       "      <th>4</th>\n",
       "      <td>5</td>\n",
       "      <td>B006K2ZZ7K</td>\n",
       "      <td>A1UQRSCLF8GW1T</td>\n",
       "      <td>Michael D. Bigham \"M. Wassir\"</td>\n",
       "      <td>0</td>\n",
       "      <td>0</td>\n",
       "      <td>5</td>\n",
       "      <td>1350777600</td>\n",
       "      <td>Great taffy</td>\n",
       "      <td>Great taffy at a great price.  There was a wid...</td>\n",
       "    </tr>\n",
       "  </tbody>\n",
       "</table>\n",
       "</div>"
      ],
      "text/plain": [
       "   Id   ProductId          UserId                      ProfileName  \\\n",
       "0   1  B001E4KFG0  A3SGXH7AUHU8GW                       delmartian   \n",
       "1   2  B00813GRG4  A1D87F6ZCVE5NK                           dll pa   \n",
       "2   3  B000LQOCH0   ABXLMWJIXXAIN  Natalia Corres \"Natalia Corres\"   \n",
       "3   4  B000UA0QIQ  A395BORC6FGVXV                             Karl   \n",
       "4   5  B006K2ZZ7K  A1UQRSCLF8GW1T    Michael D. Bigham \"M. Wassir\"   \n",
       "\n",
       "   HelpfulnessNumerator  HelpfulnessDenominator  Score        Time  \\\n",
       "0                     1                       1      5  1303862400   \n",
       "1                     0                       0      1  1346976000   \n",
       "2                     1                       1      4  1219017600   \n",
       "3                     3                       3      2  1307923200   \n",
       "4                     0                       0      5  1350777600   \n",
       "\n",
       "                 Summary                                               Text  \n",
       "0  Good Quality Dog Food  I have bought several of the Vitality canned d...  \n",
       "1      Not as Advertised  Product arrived labeled as Jumbo Salted Peanut...  \n",
       "2  \"Delight\" says it all  This is a confection that has been around a fe...  \n",
       "3         Cough Medicine  If you are looking for the secret ingredient i...  \n",
       "4            Great taffy  Great taffy at a great price.  There was a wid...  "
      ]
     },
     "execution_count": 321,
     "metadata": {},
     "output_type": "execute_result"
    }
   ],
   "source": [
    "review_data.head()"
   ]
  },
  {
   "cell_type": "code",
   "execution_count": 199,
   "metadata": {},
   "outputs": [],
   "source": [
    "review_data = review_data[['Text','Score']]"
   ]
  },
  {
   "cell_type": "code",
   "execution_count": 200,
   "metadata": {},
   "outputs": [],
   "source": [
    "review_data = review_data[review_data.Score != 3]"
   ]
  },
  {
   "cell_type": "code",
   "execution_count": 201,
   "metadata": {},
   "outputs": [],
   "source": [
    "review_data['Sentiment'] = review_data.Score.map(lambda s:0 if s < 3 else 1)"
   ]
  },
  {
   "cell_type": "code",
   "execution_count": 202,
   "metadata": {},
   "outputs": [],
   "source": [
    "review_data.drop('Score',axis=1,inplace=True)"
   ]
  },
  {
   "cell_type": "code",
   "execution_count": 203,
   "metadata": {},
   "outputs": [
    {
     "data": {
      "text/html": [
       "<div>\n",
       "<style scoped>\n",
       "    .dataframe tbody tr th:only-of-type {\n",
       "        vertical-align: middle;\n",
       "    }\n",
       "\n",
       "    .dataframe tbody tr th {\n",
       "        vertical-align: top;\n",
       "    }\n",
       "\n",
       "    .dataframe thead th {\n",
       "        text-align: right;\n",
       "    }\n",
       "</style>\n",
       "<table border=\"1\" class=\"dataframe\">\n",
       "  <thead>\n",
       "    <tr style=\"text-align: right;\">\n",
       "      <th></th>\n",
       "      <th>Text</th>\n",
       "      <th>Sentiment</th>\n",
       "    </tr>\n",
       "  </thead>\n",
       "  <tbody>\n",
       "    <tr>\n",
       "      <th>0</th>\n",
       "      <td>I have bought several of the Vitality canned d...</td>\n",
       "      <td>1</td>\n",
       "    </tr>\n",
       "    <tr>\n",
       "      <th>1</th>\n",
       "      <td>Product arrived labeled as Jumbo Salted Peanut...</td>\n",
       "      <td>0</td>\n",
       "    </tr>\n",
       "    <tr>\n",
       "      <th>2</th>\n",
       "      <td>This is a confection that has been around a fe...</td>\n",
       "      <td>1</td>\n",
       "    </tr>\n",
       "    <tr>\n",
       "      <th>3</th>\n",
       "      <td>If you are looking for the secret ingredient i...</td>\n",
       "      <td>0</td>\n",
       "    </tr>\n",
       "    <tr>\n",
       "      <th>4</th>\n",
       "      <td>Great taffy at a great price.  There was a wid...</td>\n",
       "      <td>1</td>\n",
       "    </tr>\n",
       "  </tbody>\n",
       "</table>\n",
       "</div>"
      ],
      "text/plain": [
       "                                                Text  Sentiment\n",
       "0  I have bought several of the Vitality canned d...          1\n",
       "1  Product arrived labeled as Jumbo Salted Peanut...          0\n",
       "2  This is a confection that has been around a fe...          1\n",
       "3  If you are looking for the secret ingredient i...          0\n",
       "4  Great taffy at a great price.  There was a wid...          1"
      ]
     },
     "execution_count": 203,
     "metadata": {},
     "output_type": "execute_result"
    }
   ],
   "source": [
    "review_data.head()"
   ]
  },
  {
   "cell_type": "code",
   "execution_count": 204,
   "metadata": {},
   "outputs": [
    {
     "data": {
      "text/plain": [
       "1    443777\n",
       "0     82037\n",
       "Name: Sentiment, dtype: int64"
      ]
     },
     "execution_count": 204,
     "metadata": {},
     "output_type": "execute_result"
    }
   ],
   "source": [
    "review_data.Sentiment.value_counts()"
   ]
  },
  {
   "cell_type": "code",
   "execution_count": 205,
   "metadata": {},
   "outputs": [],
   "source": [
    "review_data = review_data.sample(10000)"
   ]
  },
  {
   "cell_type": "markdown",
   "metadata": {},
   "source": [
    "#### Remove punchuations"
   ]
  },
  {
   "cell_type": "code",
   "execution_count": 206,
   "metadata": {},
   "outputs": [],
   "source": [
    "from nltk.tokenize import RegexpTokenizer"
   ]
  },
  {
   "cell_type": "code",
   "execution_count": 207,
   "metadata": {},
   "outputs": [],
   "source": [
    "tokenizer = RegexpTokenizer(r'[A-Za-z]+')"
   ]
  },
  {
   "cell_type": "code",
   "execution_count": null,
   "metadata": {},
   "outputs": [],
   "source": []
  },
  {
   "cell_type": "code",
   "execution_count": 208,
   "metadata": {},
   "outputs": [],
   "source": [
    "review_data['Text'] = review_data.Text.map(lambda x:tokenizer.tokenize(x))"
   ]
  },
  {
   "cell_type": "code",
   "execution_count": 209,
   "metadata": {},
   "outputs": [
    {
     "data": {
      "text/plain": [
       "443278    [I, have, tried, many, tahini, types, Not, a, ...\n",
       "566427    [To, be, fair, I, m, not, a, fan, of, boxed, M...\n",
       "31468     [So, it, s, Chai, If, you, don, t, know, Chai,...\n",
       "11772     [I, love, these, chopped, walnuts, I, put, the...\n",
       "514100    [One, of, the, kitties, has, a, very, sensitiv...\n",
       "173711    [These, are, one, of, the, best, dog, treats, ...\n",
       "130529    [chips, cousin, teddy, eats, canidae, dog, foo...\n",
       "385763    [I, do, love, these, products, but, why, so, e...\n",
       "380255    [FIRST, Let, me, tell, you, that, I, am, the, ...\n",
       "141634    [I, am, waiting, for, my, box, as, I, type, th...\n",
       "40785     [This, is, my, favorite, tea, flavor, it, s, h...\n",
       "330596    [Caribou, Blend, is, my, favorite, of, all, th...\n",
       "297516    [What, else, can, I, say, They, are, great, he...\n",
       "88718     [I, bought, dried, milks, Peaks, dry, Whole, M...\n",
       "73577     [We, converted, to, Rice, Dream, over, a, year...\n",
       "499867    [My, cat, is, picky, He, also, gets, an, upset...\n",
       "493453    [Cadbury, eggs, are, one, of, the, joys, of, E...\n",
       "164829    [These, things, are, great, They, remind, me, ...\n",
       "34614     [When, you, start, one, bag, isn, t, too, long...\n",
       "488787    [A, very, enjoyable, sweet, treat, love, the, ...\n",
       "260951    [bye, bye, soda, hello, bai, jamaica, blueberr...\n",
       "364099    [Got, a, case, of, this, for, with, free, ship...\n",
       "447763    [was, very, disappointd, with, this, soup, at,...\n",
       "207784    [It, was, cute, but, I, didn, t, realize, it, ...\n",
       "26295     [I, ve, purchased, several, Douwe, Egberts, co...\n",
       "80958     [yum, I, haven, t, had, these, for, years, the...\n",
       "142354    [I, usually, have, trouble, with, the, acid, i...\n",
       "528729    [Imagine, you, are, in, a, snow, globe, But, i...\n",
       "502367    [It, seems, like, they, have, tried, to, impro...\n",
       "58315     [We, absolutely, love, this, coffee, It, s, a,...\n",
       "                                ...                        \n",
       "2859      [I, bought, this, at, a, local, gas, station, ...\n",
       "438998    [TOP, REASONS, NOT, TO, BUY, THIS, SAUCE, br, ...\n",
       "8582      [As, coffee, in, general, this, Wolfgang, vari...\n",
       "428387    [If, this, were, just, a, good, tasting, bette...\n",
       "387352    [This, stuff, is, amazing, I, first, tried, it...\n",
       "186330    [I, bought, this, product, based, on, many, po...\n",
       "462425    [Bottled, this, up, weeks, ago, went, to, open...\n",
       "95875     [I, have, a, year, old, who, was, born, allerg...\n",
       "46292     [I, purchased, this, and, couldn, t, be, more,...\n",
       "343847    [Both, my, husband, and, I, love, the, taste, ...\n",
       "189373    [Nutiva, Extra, Virgin, Coconut, Oil, tastes, ...\n",
       "125000    [When, I, first, wrote, this, review, for, som...\n",
       "190775    [I, bought, two, of, these, directly, from, Ae...\n",
       "83412     [The, subscribe, save, service, is, good, prod...\n",
       "263121    [This, used, to, be, the, only, cat, food, my,...\n",
       "132539    [You, get, a, lot, for, your, money, Has, all,...\n",
       "351671    [The, sweet, and, tart, flavor, of, the, limes...\n",
       "381370    [I, bought, this, product, and, love, the, fla...\n",
       "544952    [I, am, an, avid, home, cook, and, purchased, ...\n",
       "391933    [peach, flavor, could, be, stronger, I, use, i...\n",
       "383855    [To, the, person, who, states, that, the, pric...\n",
       "214966    [I, was, happy, to, be, able, to, get, this, a...\n",
       "281938    [My, boyfriend, bought, this, for, me, as, a, ...\n",
       "182924    [The, food, this, company, makes, is, the, clo...\n",
       "416719    [My, cat, allergic, to, any, food, I, tried, t...\n",
       "344986    [A, hot, chocolate, packet, was, the, first, K...\n",
       "3815      [Panda, All, Natural, Soft, Licorice, is, a, g...\n",
       "215458    [I, ordered, packs, of, Izze, Fortified, All, ...\n",
       "503869    [It, taste, like, a, warm, soft, chocolate, ch...\n",
       "428210    [I, sent, this, to, my, sister, for, her, birt...\n",
       "Name: Text, Length: 10000, dtype: object"
      ]
     },
     "execution_count": 209,
     "metadata": {},
     "output_type": "execute_result"
    }
   ],
   "source": [
    "review_data.Text"
   ]
  },
  {
   "cell_type": "markdown",
   "metadata": {},
   "source": [
    "#### Stemming"
   ]
  },
  {
   "cell_type": "code",
   "execution_count": 210,
   "metadata": {},
   "outputs": [],
   "source": [
    "from nltk.stem.snowball import SnowballStemmer\n",
    "stemmer = SnowballStemmer(\"english\")"
   ]
  },
  {
   "cell_type": "code",
   "execution_count": 212,
   "metadata": {},
   "outputs": [],
   "source": [
    "review_data['Text'] = review_data.Text.map(lambda l: [stemmer.stem(word) for word in l])"
   ]
  },
  {
   "cell_type": "code",
   "execution_count": 214,
   "metadata": {},
   "outputs": [],
   "source": [
    "review_data.Text = review_data.Text.str.join(sep=' ')"
   ]
  },
  {
   "cell_type": "markdown",
   "metadata": {},
   "source": [
    "#### Preprocessing"
   ]
  },
  {
   "cell_type": "code",
   "execution_count": 215,
   "metadata": {},
   "outputs": [],
   "source": [
    "from sklearn.feature_extraction.text import CountVectorizer"
   ]
  },
  {
   "cell_type": "code",
   "execution_count": 216,
   "metadata": {},
   "outputs": [],
   "source": [
    "cv = CountVectorizer(stop_words='english')"
   ]
  },
  {
   "cell_type": "code",
   "execution_count": 217,
   "metadata": {},
   "outputs": [],
   "source": [
    "review_data_tf = cv.fit_transform(review_data.Text)"
   ]
  },
  {
   "cell_type": "markdown",
   "metadata": {},
   "source": [
    "#### Splitting data into train_test"
   ]
  },
  {
   "cell_type": "code",
   "execution_count": 219,
   "metadata": {},
   "outputs": [],
   "source": [
    "trainX,testX,trainY,testY = train_test_split(review_data_tf,review_data.Sentiment)"
   ]
  },
  {
   "cell_type": "markdown",
   "metadata": {},
   "source": [
    "#### Create Model"
   ]
  },
  {
   "cell_type": "code",
   "execution_count": 221,
   "metadata": {},
   "outputs": [
    {
     "data": {
      "text/plain": [
       "1    8463\n",
       "0    1537\n",
       "Name: Sentiment, dtype: int64"
      ]
     },
     "execution_count": 221,
     "metadata": {},
     "output_type": "execute_result"
    }
   ],
   "source": [
    "review_data.Sentiment.value_counts()"
   ]
  },
  {
   "cell_type": "markdown",
   "metadata": {},
   "source": [
    "* Class Imbalanced\n",
    "* Two ways to handle this - dealing with data, dealing with algo"
   ]
  },
  {
   "cell_type": "code",
   "execution_count": 222,
   "metadata": {},
   "outputs": [],
   "source": [
    "from sklearn.naive_bayes import MultinomialNB"
   ]
  },
  {
   "cell_type": "code",
   "execution_count": 282,
   "metadata": {},
   "outputs": [],
   "source": [
    "mnb = MultinomialNB(class_prior=[.25,.75])"
   ]
  },
  {
   "cell_type": "code",
   "execution_count": 283,
   "metadata": {},
   "outputs": [
    {
     "data": {
      "text/plain": [
       "MultinomialNB(alpha=1.0, class_prior=[0.25, 0.75], fit_prior=True)"
      ]
     },
     "execution_count": 283,
     "metadata": {},
     "output_type": "execute_result"
    }
   ],
   "source": [
    "mnb.fit(trainX,trainY)"
   ]
  },
  {
   "cell_type": "code",
   "execution_count": 284,
   "metadata": {},
   "outputs": [
    {
     "data": {
      "text/plain": [
       "[0.25, 0.75]"
      ]
     },
     "execution_count": 284,
     "metadata": {},
     "output_type": "execute_result"
    }
   ],
   "source": [
    "mnb.class_prior"
   ]
  },
  {
   "cell_type": "code",
   "execution_count": 285,
   "metadata": {},
   "outputs": [],
   "source": [
    "y_pred = mnb.predict(testX)"
   ]
  },
  {
   "cell_type": "code",
   "execution_count": 286,
   "metadata": {},
   "outputs": [],
   "source": [
    "from sklearn.metrics import confusion_matrix"
   ]
  },
  {
   "cell_type": "code",
   "execution_count": 287,
   "metadata": {},
   "outputs": [
    {
     "data": {
      "text/plain": [
       "array([[ 180,  197],\n",
       "       [  90, 2033]], dtype=int64)"
      ]
     },
     "execution_count": 287,
     "metadata": {},
     "output_type": "execute_result"
    }
   ],
   "source": [
    "confusion_matrix(y_true=testY, y_pred=y_pred)"
   ]
  },
  {
   "cell_type": "markdown",
   "metadata": {},
   "source": [
    "### Bernoulli's Naive Bayes\n",
    "* Like MultinomialNB, this classifier is suitable for discrete data.\n",
    "* The difference is that while MultinomialNB works with occurrence counts\n",
    "* BernoulliNB is designed for binary/boolean features.\n",
    "* If data is not binary, internally Binarization preprocessing will happen\n",
    "* Can deal with negative numbers"
   ]
  },
  {
   "cell_type": "code",
   "execution_count": 84,
   "metadata": {},
   "outputs": [],
   "source": [
    "from sklearn.datasets import make_classification"
   ]
  },
  {
   "cell_type": "code",
   "execution_count": 85,
   "metadata": {},
   "outputs": [],
   "source": [
    "X, Y = make_classification(n_samples=500, n_features=2, n_informative=2, n_redundant=0)"
   ]
  },
  {
   "cell_type": "code",
   "execution_count": 86,
   "metadata": {},
   "outputs": [
    {
     "data": {
      "text/plain": [
       "<matplotlib.collections.PathCollection at 0x1bad88e2d30>"
      ]
     },
     "execution_count": 86,
     "metadata": {},
     "output_type": "execute_result"
    },
    {
     "data": {
      "image/png": "[encoded data removed]",
      "text/plain": [
       "<matplotlib.figure.Figure at 0x1bad88892b0>"
      ]
     },
     "metadata": {},
     "output_type": "display_data"
    }
   ],
   "source": [
    "plt.scatter(X[:,0],X[:,1],c=Y,s=10, cmap='viridis')"
   ]
  },
  {
   "cell_type": "code",
   "execution_count": 87,
   "metadata": {},
   "outputs": [],
   "source": [
    "from sklearn.naive_bayes import BernoulliNB, MultinomialNB\n",
    "from sklearn.model_selection import train_test_split"
   ]
  },
  {
   "cell_type": "code",
   "execution_count": 88,
   "metadata": {},
   "outputs": [],
   "source": [
    "trainX,testX,trainY,testY = train_test_split(X,Y)"
   ]
  },
  {
   "cell_type": "code",
   "execution_count": 95,
   "metadata": {},
   "outputs": [],
   "source": [
    "bnb = BernoulliNB(binarize=0.0)\n",
    "mnb = MultinomialNB()"
   ]
  },
  {
   "cell_type": "code",
   "execution_count": 96,
   "metadata": {},
   "outputs": [
    {
     "data": {
      "text/plain": [
       "BernoulliNB(alpha=1.0, binarize=0.0, class_prior=None, fit_prior=True)"
      ]
     },
     "execution_count": 96,
     "metadata": {},
     "output_type": "execute_result"
    }
   ],
   "source": [
    "bnb.fit(trainX, trainY)\n",
    "#mnb.fit(trainX, trainY)"
   ]
  },
  {
   "cell_type": "code",
   "execution_count": 97,
   "metadata": {},
   "outputs": [
    {
     "data": {
      "text/plain": [
       "0.952"
      ]
     },
     "execution_count": 97,
     "metadata": {},
     "output_type": "execute_result"
    }
   ],
   "source": [
    "bnb.score(testX,testY)"
   ]
  },
  {
   "cell_type": "code",
   "execution_count": 98,
   "metadata": {},
   "outputs": [],
   "source": [
    "#mnb.score(testX,testY)"
   ]
  },
  {
   "cell_type": "code",
   "execution_count": 99,
   "metadata": {},
   "outputs": [],
   "source": [
    "h = .02\n",
    "x_min, x_max = X[:, 0].min() - .5, X[:, 0].max() + .5\n",
    "y_min, y_max = X[:, 1].min() - .5, X[:, 1].max() + .5\n",
    "xx, yy = np.meshgrid(np.arange(x_min, x_max, h), np.arange(y_min, y_max, h))"
   ]
  },
  {
   "cell_type": "code",
   "execution_count": 100,
   "metadata": {},
   "outputs": [],
   "source": [
    "Z = bnb.predict(np.c_[xx.ravel(), yy.ravel()])"
   ]
  },
  {
   "cell_type": "code",
   "execution_count": 101,
   "metadata": {},
   "outputs": [],
   "source": [
    "Z = Z.reshape(xx.shape)"
   ]
  },
  {
   "cell_type": "code",
   "execution_count": 102,
   "metadata": {},
   "outputs": [
    {
     "data": {
      "text/plain": [
       "<matplotlib.collections.PathCollection at 0x1bad893ed68>"
      ]
     },
     "execution_count": 102,
     "metadata": {},
     "output_type": "execute_result"
    },
    {
     "data": {
      "image/png": "[encoded data removed]",
      "text/plain": [
       "<matplotlib.figure.Figure at 0x1bad88e9860>"
      ]
     },
     "metadata": {},
     "output_type": "display_data"
    }
   ],
   "source": [
    "plt.pcolormesh(xx, yy, Z, cmap=plt.cm.Paired)\n",
    "plt.scatter(X[:,0],X[:,1],c=Y,s=10)"
   ]
  },
  {
   "cell_type": "markdown",
   "metadata": {},
   "source": [
    "### Out-of-core training\n",
    "* Naive Bayes supports partial_fit function\n",
    "* For data which cannot be fit to RAM, we can use partial_fit function to gradually train the model"
   ]
  },
  {
   "cell_type": "code",
   "execution_count": 290,
   "metadata": {},
   "outputs": [],
   "source": [
    "from nltk.tokenize import RegexpTokenizer\n",
    "tokenizer = RegexpTokenizer(r'[A-Za-z]+')"
   ]
  },
  {
   "cell_type": "code",
   "execution_count": 291,
   "metadata": {},
   "outputs": [],
   "source": [
    "from nltk.stem.snowball import SnowballStemmer\n",
    "stemmer = SnowballStemmer(\"english\")"
   ]
  },
  {
   "cell_type": "markdown",
   "metadata": {},
   "source": [
    "* HashingVectorizer is suited for large data, since it doesn't maintain state"
   ]
  },
  {
   "cell_type": "code",
   "execution_count": 294,
   "metadata": {},
   "outputs": [],
   "source": [
    "from sklearn.feature_extraction.text import HashingVectorizer\n",
    "vectorizer = HashingVectorizer(decode_error='ignore', n_features=2 ** 18,\n",
    "                               alternate_sign=False)"
   ]
  },
  {
   "cell_type": "code",
   "execution_count": 316,
   "metadata": {},
   "outputs": [],
   "source": [
    "review_data_chunks = pd.read_csv('Reviews.csv', chunksize=20000)"
   ]
  },
  {
   "cell_type": "code",
   "execution_count": 311,
   "metadata": {},
   "outputs": [],
   "source": [
    "test = pd.read_csv('Reviews.csv').sample(10000)"
   ]
  },
  {
   "cell_type": "code",
   "execution_count": 313,
   "metadata": {},
   "outputs": [],
   "source": [
    "test = test[['Text','Score']]\n",
    "test = test[test.Score != 3]\n",
    "test['Sentiment'] = test.Score.map(lambda s:0 if s < 3 else 1)\n",
    "test.Text = test.Text.map(lambda x:tokenizer.tokenize(x))\n",
    "test.Text = test.Text.map(lambda l: [stemmer.stem(word) for word in l])\n",
    "test.Text = test.Text.str.join(sep=' ')\n",
    "test_tf = vectorizer.transform(test.Text)"
   ]
  },
  {
   "cell_type": "code",
   "execution_count": 314,
   "metadata": {},
   "outputs": [],
   "source": [
    "mnb = MultinomialNB(class_prior=[.22,.78])"
   ]
  },
  {
   "cell_type": "markdown",
   "metadata": {},
   "source": [
    "* Taking chunk of data each time & fitting the model & gradually improving it"
   ]
  },
  {
   "cell_type": "code",
   "execution_count": 317,
   "metadata": {},
   "outputs": [
    {
     "name": "stdout",
     "output_type": "stream",
     "text": [
      "iter :  0\n",
      "[[   3 1434]\n",
      " [   1 7781]]\n",
      "iter :  1\n",
      "[[   4 1433]\n",
      " [   1 7781]]\n",
      "iter :  2\n",
      "[[   4 1433]\n",
      " [   1 7781]]\n",
      "iter :  3\n",
      "[[   5 1432]\n",
      " [   1 7781]]\n",
      "iter :  4\n",
      "[[   7 1430]\n",
      " [   1 7781]]\n",
      "iter :  5\n",
      "[[   7 1430]\n",
      " [   1 7781]]\n",
      "iter :  6\n",
      "[[   8 1429]\n",
      " [   1 7781]]\n",
      "iter :  7\n",
      "[[   9 1428]\n",
      " [   1 7781]]\n",
      "iter :  8\n",
      "[[   9 1428]\n",
      " [   1 7781]]\n",
      "iter :  9\n",
      "[[   9 1428]\n",
      " [   1 7781]]\n",
      "iter :  10\n",
      "[[   9 1428]\n",
      " [   1 7781]]\n",
      "iter :  11\n",
      "[[  10 1427]\n",
      " [   1 7781]]\n",
      "iter :  12\n",
      "[[  11 1426]\n",
      " [   1 7781]]\n",
      "iter :  13\n",
      "[[  13 1424]\n",
      " [   1 7781]]\n",
      "iter :  14\n",
      "[[  14 1423]\n",
      " [   1 7781]]\n",
      "iter :  15\n",
      "[[  15 1422]\n",
      " [   1 7781]]\n",
      "iter :  16\n",
      "[[  15 1422]\n",
      " [   1 7781]]\n",
      "iter :  17\n",
      "[[  17 1420]\n",
      " [   1 7781]]\n",
      "iter :  18\n",
      "[[  17 1420]\n",
      " [   1 7781]]\n",
      "iter :  19\n",
      "[[  18 1419]\n",
      " [   1 7781]]\n",
      "iter :  20\n",
      "[[  17 1420]\n",
      " [   1 7781]]\n",
      "iter :  21\n",
      "[[  18 1419]\n",
      " [   1 7781]]\n",
      "iter :  22\n",
      "[[  19 1418]\n",
      " [   1 7781]]\n",
      "iter :  23\n",
      "[[  20 1417]\n",
      " [   1 7781]]\n",
      "iter :  24\n",
      "[[  20 1417]\n",
      " [   1 7781]]\n",
      "iter :  25\n",
      "[[  23 1414]\n",
      " [   1 7781]]\n",
      "iter :  26\n",
      "[[  24 1413]\n",
      " [   1 7781]]\n",
      "iter :  27\n",
      "[[  24 1413]\n",
      " [   1 7781]]\n",
      "iter :  28\n",
      "[[  25 1412]\n",
      " [   1 7781]]\n"
     ]
    }
   ],
   "source": [
    "for idx,review_data in enumerate(review_data_chunks):\n",
    "    print ('iter : ',idx)\n",
    "    review_data = review_data[['Text','Score']]\n",
    "    review_data = review_data[review_data.Score != 3]\n",
    "    review_data['Sentiment'] = review_data.Score.map(lambda s:0 if s < 3 else 1)\n",
    "    review_data.Text = review_data.Text.map(lambda x:tokenizer.tokenize(x))\n",
    "    review_data.Text = review_data.Text.map(lambda l: [stemmer.stem(word) for word in l])\n",
    "    review_data.Text = review_data.Text.str.join(sep=' ')\n",
    "    text_tf = vectorizer.transform(review_data.Text)\n",
    "    mnb.partial_fit(text_tf,review_data.Sentiment,classes=[0,1])\n",
    "    y_pred = mnb.predict(test_tf)\n",
    "    print (confusion_matrix(y_pred=y_pred, y_true=test.Sentiment))"
   ]
  },
  {
   "cell_type": "markdown",
   "metadata": {},
   "source": [
    "* As we can see, model keeps improving\n",
    "* Next step would be to use sampling techniques to improve further accuracy"
   ]
  },
  {
   "cell_type": "code",
   "execution_count": null,
   "metadata": {},
   "outputs": [],
   "source": []
  }
 ],
 "metadata": {
  "kernelspec": {
   "display_name": "Python 3",
   "language": "python",
   "name": "python3"
  },
  "language_info": {
   "codemirror_mode": {
    "name": "ipython",
    "version": 3
   },
   "file_extension": ".py",
   "mimetype": "text/x-python",
   "name": "python",
   "nbconvert_exporter": "python",
   "pygments_lexer": "ipython3",
   "version": "3.6.4"
  }
 },
 "nbformat": 4,
 "nbformat_minor": 2
}
